{
 "cells": [
  {
   "cell_type": "code",
   "execution_count": 77,
   "id": "af7c3704-6301-4519-a357-386dcf594c69",
   "metadata": {
    "tags": []
   },
   "outputs": [
    {
     "name": "stdout",
     "output_type": "stream",
     "text": [
      "DEBUG: Read templates from /global/common/software/desi/perlmutter/desiconda/20230111-2.1.0/code/redrock-templates/0.8\n",
      "DEBUG: Using default redshift range -0.0050-1.6997 for rrtemplate-galaxy.fits\n",
      "DEBUG: Using redshift range 1.4000-6.9930 for rrtemplate-qso-HIZ.fits\n",
      "DEBUG: Using redshift range 0.0500-1.5983 for rrtemplate-qso-LOZ.fits\n",
      "DEBUG: Using default redshift range -0.0020-0.0020 for rrtemplate-star-A.fits\n",
      "DEBUG: Using default redshift range -0.0020-0.0020 for rrtemplate-star-B.fits\n",
      "DEBUG: Using default redshift range -0.0020-0.0020 for rrtemplate-star-CV.fits\n",
      "DEBUG: Using default redshift range -0.0020-0.0020 for rrtemplate-star-F.fits\n",
      "DEBUG: Using default redshift range -0.0020-0.0020 for rrtemplate-star-G.fits\n",
      "DEBUG: Using default redshift range -0.0020-0.0020 for rrtemplate-star-K.fits\n",
      "DEBUG: Using default redshift range -0.0020-0.0020 for rrtemplate-star-M.fits\n",
      "DEBUG: Using default redshift range -0.0020-0.0020 for rrtemplate-star-WD.fits\n"
     ]
    }
   ],
   "source": [
    "import os\n",
    "import sys\n",
    "sys.path.append('/global/homes/e/emmayu/transients_cmuS24/timedomain/desitrip/py/') #Note:change this path as needed!\n",
    "sys.path.append('/global/homes/e/emmayu/transients_cmuS24/timedomain/')\n",
    "\n",
    "from desispec.io import read_spectra, write_spectra\n",
    "from desispec.spectra import Spectra\n",
    "from desispec.coaddition import coadd_cameras\n",
    "from desitarget.sv1.sv1_targetmask import bgs_mask as bgs_mask_sv1\n",
    "from desitarget.sv2.sv2_targetmask import bgs_mask as bgs_mask_sv2\n",
    "from desitarget.sv3.sv3_targetmask import bgs_mask as bgs_mask_sv3\n",
    "\n",
    "from desitrip.preproc import rebin_flux, rescale_flux\n",
    "from desitrip.deltamag import delta_mag\n",
    "\n",
    "from astropy.io import fits\n",
    "from astropy.table import Table, vstack, hstack, join, unique\n",
    "import fitsio\n",
    "\n",
    "from glob import glob\n",
    "from datetime import date\n",
    "\n",
    "import numpy as np\n",
    "import matplotlib as mpl\n",
    "import matplotlib.pyplot as plt\n",
    "import pandas as pd\n",
    "\n",
    "from tensorflow import keras\n",
    "\n",
    "mpl.rc('font', size=14)\n",
    "\n",
    "from argparse import ArgumentParser\n",
    "\n",
    "#DESITRIP_daily\n",
    "from timedomain.sp_utils import *\n",
    "from timedomain.filters import *\n",
    "#from timedomain.iterators import *\n",
    "\n",
    "import sqlite3\n",
    "\n",
    "# Add redrock templates to look at residuals \n",
    "\n",
    "from scipy.ndimage import gaussian_filter1d\n",
    "from desispec.interpolation import resample_flux\n",
    "from desispec.resolution import Resolution\n",
    "\n",
    "\n",
    "import redrock.templates\n",
    "\n",
    "templates = dict()\n",
    "for filename in redrock.templates.find_templates():\n",
    "    t = redrock.templates.Template(filename)\n",
    "    templates[(t.template_type, t.sub_type)] = t"
   ]
  },
  {
   "cell_type": "markdown",
   "id": "65651d12-daf4-494d-981a-35da0901cb4a",
   "metadata": {},
   "source": [
    "## Prepare the CNN Model"
   ]
  },
  {
   "cell_type": "code",
   "execution_count": 78,
   "id": "5a684783-4b89-485d-b4d4-237cf7a1bfb2",
   "metadata": {
    "tags": []
   },
   "outputs": [
    {
     "name": "stdout",
     "output_type": "stream",
     "text": [
      "WARNING:tensorflow:SavedModel saved prior to TF 2.5 detected when loading Keras model. Please ensure that you are saving the model with model.save() or tf.keras.models.save_model(), *NOT* tf.saved_model.save(). To confirm, there should be a file named \"keras_metadata.pb\" in the SavedModel directory.\n"
     ]
    },
    {
     "name": "stderr",
     "output_type": "stream",
     "text": [
      "WARNING:tensorflow:SavedModel saved prior to TF 2.5 detected when loading Keras model. Please ensure that you are saving the model with model.save() or tf.keras.models.save_model(), *NOT* tf.saved_model.save(). To confirm, there should be a file named \"keras_metadata.pb\" in the SavedModel directory.\n"
     ]
    },
    {
     "name": "stdout",
     "output_type": "stream",
     "text": [
      "Model: \"SNnet\"\n",
      "_________________________________________________________________\n",
      " Layer (type)                Output Shape              Param #   \n",
      "=================================================================\n",
      " Input_Spec (InputLayer)     [(None, 150, 1)]          0         \n",
      "                                                                 \n",
      " conv1d_20 (Conv1D)          (None, 150, 8)            48        \n",
      "                                                                 \n",
      " batch_normalization_20 (Ba  (None, 150, 8)            32        \n",
      " tchNormalization)                                               \n",
      "                                                                 \n",
      " activation_20 (Activation)  (None, 150, 8)            0         \n",
      "                                                                 \n",
      " max_pooling1d_20 (MaxPooli  (None, 75, 8)             0         \n",
      " ng1D)                                                           \n",
      "                                                                 \n",
      " conv1d_21 (Conv1D)          (None, 75, 16)            656       \n",
      "                                                                 \n",
      " batch_normalization_21 (Ba  (None, 75, 16)            64        \n",
      " tchNormalization)                                               \n",
      "                                                                 \n",
      " activation_21 (Activation)  (None, 75, 16)            0         \n",
      "                                                                 \n",
      " max_pooling1d_21 (MaxPooli  (None, 37, 16)            0         \n",
      " ng1D)                                                           \n",
      "                                                                 \n",
      " conv1d_22 (Conv1D)          (None, 37, 32)            2592      \n",
      "                                                                 \n",
      " batch_normalization_22 (Ba  (None, 37, 32)            128       \n",
      " tchNormalization)                                               \n",
      "                                                                 \n",
      " activation_22 (Activation)  (None, 37, 32)            0         \n",
      "                                                                 \n",
      " max_pooling1d_22 (MaxPooli  (None, 18, 32)            0         \n",
      " ng1D)                                                           \n",
      "                                                                 \n",
      " conv1d_23 (Conv1D)          (None, 18, 64)            10304     \n",
      "                                                                 \n",
      " batch_normalization_23 (Ba  (None, 18, 64)            256       \n",
      " tchNormalization)                                               \n",
      "                                                                 \n",
      " activation_23 (Activation)  (None, 18, 64)            0         \n",
      "                                                                 \n",
      " max_pooling1d_23 (MaxPooli  (None, 9, 64)             0         \n",
      " ng1D)                                                           \n",
      "                                                                 \n",
      " flatten_5 (Flatten)         (None, 576)               0         \n",
      "                                                                 \n",
      " dense_5 (Dense)             (None, 256)               147712    \n",
      "                                                                 \n",
      " dropout_5 (Dropout)         (None, 256)               0         \n",
      "                                                                 \n",
      " Output_Classes (Dense)      (None, 9)                 2313      \n",
      "                                                                 \n",
      "=================================================================\n",
      "Total params: 164105 (641.04 KB)\n",
      "Trainable params: 163865 (640.10 KB)\n",
      "Non-trainable params: 240 (960.00 Byte)\n",
      "_________________________________________________________________\n"
     ]
    }
   ],
   "source": [
    "  # ## Load the Keras Model\n",
    "# \n",
    "# Load a model trained on real or simulated data using the native Keras output format. In the future this could be updated to just load the Keras weights.\n",
    "\n",
    "\n",
    "tfmodel = '/global/homes/l/lehsani/timedomain/desitrip/docs/nb/models_9label_first/6_b65_e200_9label/b65_e200_9label_model'\n",
    "# tfmodel = '/'.join([os.environ['HOME'], 'desi/timedomain/desitrip/docs/nb', '6label_cnn_restframe'])\n",
    "if os.path.exists(tfmodel):\n",
    "    classifier = keras.models.load_model(tfmodel)\n",
    "else:\n",
    "    classifier = None\n",
    "    print('Sorry, could not find {}'.format(tfmodel))\n",
    "\n",
    "if classifier is not None:\n",
    "    classifier.summary()\n",
    "\n",
    "label_names = ['Galaxy',\n",
    "          'SN Ia',\n",
    "          'SN Ib',\n",
    "          'SN Ib/c',\n",
    "          'SN Ic',\n",
    "          'SN IIn',\n",
    "          'SN IIL/P',\n",
    "          'SN IIP',\n",
    "          'KN']\n",
    "label_names_arr=np.array(label_names)\n",
    "\n",
    "#Only import tf and define stuff if you want to applt gradcam - otherwise save time\n",
    "#This function needs to be changed if the keras model architecture is changed\n",
    "gradcam = True\n",
    "if gradcam:\n",
    "    import tensorflow as tf\n",
    "    last_conv_layer_name = \"conv1d_23\"\n",
    "    classifier_layer_names = [\n",
    "    \"batch_normalization_23\",\n",
    "    \"activation_23\",\n",
    "    \"max_pooling1d_23\",\n",
    "    \"flatten_5\",\n",
    "    \"dense_5\",\n",
    "    \"dropout_5\",\n",
    "    \"Output_Classes\"\n",
    "    ]\n",
    "\n",
    "    def make_gradcam_heatmap(\n",
    "        img_array, model, last_conv_layer_name, classifier_layer_names\n",
    "    ):\n",
    "        # First, we create a model that maps the input image to the activations\n",
    "        # of the last conv layer\n",
    "        last_conv_layer = model.get_layer(last_conv_layer_name)\n",
    "        last_conv_layer_model = keras.Model(model.inputs, last_conv_layer.output)\n",
    "\n",
    "        # Second, we create a model that maps the activations of the last conv\n",
    "        # layer to the final class predictions\n",
    "        classifier_input = keras.Input(shape=last_conv_layer.output.shape[1:])\n",
    "        x = classifier_input\n",
    "        for layer_name in classifier_layer_names:\n",
    "            #print(layer_name,x.shape)\n",
    "            x = model.get_layer(layer_name)(x)\n",
    "        classifier_model = keras.Model(classifier_input, x)\n",
    "\n",
    "        # Then, we compute the gradient of the top predicted class for our input image\n",
    "        # with respect to the activations of the last conv layer\n",
    "        with tf.GradientTape() as tape:\n",
    "            # Compute activations of the last conv layer and make the tape watch it\n",
    "            last_conv_layer_output = last_conv_layer_model(img_array)\n",
    "            tape.watch(last_conv_layer_output)\n",
    "            # Compute class predictions\n",
    "            preds = classifier_model(last_conv_layer_output)\n",
    "            top_pred_index = tf.argmax(preds[0])\n",
    "            top_class_channel = preds[:, top_pred_index]\n",
    "\n",
    "        # This is the gradient of the top predicted class with regard to\n",
    "        # the output feature map of the last conv layer\n",
    "        grads = tape.gradient(top_class_channel, last_conv_layer_output)\n",
    "        # This is a vector where each entry is the mean intensity of the gradient\n",
    "        # over a specific feature map channel\n",
    "        pooled_grads = tf.reduce_mean(grads, axis=(0, 1))\n",
    "        #print(grads.shape,pooled_grads.shape)\n",
    "\n",
    "        # We multiply each channel in the feature map array\n",
    "        # by \"how important this channel is\" with regard to the top predicted class\n",
    "        last_conv_layer_output = last_conv_layer_output.numpy()[0]\n",
    "        pooled_grads = pooled_grads.numpy()\n",
    "        for i in range(pooled_grads.shape[-1]):\n",
    "            last_conv_layer_output[:, i] *= pooled_grads[i]\n",
    "\n",
    "        # The channel-wise mean of the resulting feature map\n",
    "        # is our heatmap of class activation\n",
    "        heatmap = np.mean(last_conv_layer_output, axis=-1)\n",
    "\n",
    "        #We apply ReLU here and select only elements>0\n",
    "        # For visualization purpose, we will also normalize the heatmap between 0 & 1\n",
    "        heatmap = np.maximum(heatmap, 0) / np.max(heatmap)\n",
    "        return heatmap\n",
    "\n",
    "    preprocess_input = keras.applications.xception.preprocess_input\n",
    "    decode_predictions = keras.applications.xception.decode_predictions\n",
    "    classifier.summary"
   ]
  },
  {
   "cell_type": "markdown",
   "id": "293d7a92-75a7-4937-83f9-1664860e282e",
   "metadata": {
    "tags": []
   },
   "source": [
    "## Prepare Files for Classification"
   ]
  },
  {
   "cell_type": "code",
   "execution_count": 79,
   "id": "fbf7602a-c40e-415c-bdaa-5bc28563c468",
   "metadata": {
    "tags": []
   },
   "outputs": [],
   "source": [
    "def get_files(obsdate, tile_number, petal_id):\n",
    "    # Access redux folder.\n",
    "    #20210503 is when the directory structure changed, no more daily reductions in the tiles directory\n",
    "    redux = '/'.join([os.environ['DESI_SPECTRO_REDUX'], 'daily'])\n",
    "    if int(obsdate)<20210503:\n",
    "        prefix_in = '/'.join([redux, 'tiles', tile_number, obsdate])\n",
    "    else:\n",
    "        prefix_in = '/'.join([redux, 'tiles/cumulative', tile_number, obsdate])\n",
    "\n",
    "    if int(obsdate)<20210903:\n",
    "        fiberstatus_key = 'FIBERSTATUS'\n",
    "        ztable = 'ZBEST'\n",
    "    else:\n",
    "        fiberstatus_key = 'COADD_FIBERSTATUS'\n",
    "        ztable = 'redshifts'\n",
    "        \n",
    "    if not os.path.isdir(prefix_in):\n",
    "        print('{} does not exist.'.format(prefix_in))\n",
    "        return [], []\n",
    "    else:\n",
    "\n",
    "        # Access the zbest and coadd files.\n",
    "        # Files are organized by petal number.\n",
    "        if int(obsdate)<20210503:\n",
    "            zbfile = glob(f'{prefix_in}/zbest-{petal_id}*.fits')\n",
    "            cafile = glob(f'{prefix_in}/coadd-{petal_id}*.fits')\n",
    "            if len(cafile) == 0:\n",
    "                cafile = glob(f'{zb_ca_dir}/spectra-{petal_id}*.fits.gz')\n",
    "        elif int(obsdate)<20210903:\n",
    "            #Only grabbing stuff from the most recent cumulative directory\n",
    "            zb_ca_dir = glob(f'{prefix_in}/')[-1]\n",
    "            zbfile = glob(f'{zb_ca_dir}/zbest-{petal_id}*.fits')\n",
    "            cafile = glob(f'{zb_ca_dir}/spectra-{petal_id}*.fits')\n",
    "            if len(cafile) == 0:\n",
    "                cafile = glob(f'{zb_ca_dir}/spectra-{petal_id}*.fits.gz')\n",
    "        else:\n",
    "            zb_ca_dir = glob(f'{prefix_in}/')[-1]\n",
    "            zbfile = glob(f'{zb_ca_dir}/redrock-{petal_id}*.fits')\n",
    "            cafile = glob(f'{zb_ca_dir}/spectra-{petal_id}*.fits')\n",
    "            if len(cafile) == 0:\n",
    "                cafile = glob(f'{zb_ca_dir}/spectra-{petal_id}*.gz')\n",
    "                    \n",
    "    return zbfile, cafile"
   ]
  },
  {
   "cell_type": "markdown",
   "id": "18f001fd-a173-42b8-9be1-acea78b3e72c",
   "metadata": {},
   "source": [
    "## Format the data for input to the CNN"
   ]
  },
  {
   "cell_type": "code",
   "execution_count": 80,
   "id": "da644479-b8a5-4835-8579-21068ee28d4c",
   "metadata": {
    "tags": []
   },
   "outputs": [],
   "source": [
    "import fitsio\n",
    "def prepare_input(row_num):\n",
    "    \n",
    "    global allzbest, allfmap, allwave, allflux, allivar, allmask, allres\n",
    "    \n",
    "    row = transients[row_num]\n",
    "    \n",
    "    obsdate = row['desi_obs_date']\n",
    "    obsdate = int(obsdate)\n",
    "    tileid = row['desi_tileid']\n",
    "    tileid = int(tileid)\n",
    "    petalid = row['desi_petalid']\n",
    "    petalid = int(petalid)\n",
    "    target_id = int(row['desi_targetid'])\n",
    "    \n",
    "    zbfile, cafile = get_files(str(obsdate), str(tileid), str(petalid))\n",
    "\n",
    "    if int(obsdate)<20210903:\n",
    "            fiberstatus_key = 'FIBERSTATUS'\n",
    "            ztable = 'ZBEST'\n",
    "    else:\n",
    "            fiberstatus_key = 'COADD_FIBERSTATUS'\n",
    "            ztable = 'redshifts'\n",
    "            \n",
    "    if len(zbfile) < 1 or len(cafile) < 1:\n",
    "        print('No files found for row #', row_num)\n",
    "        return None\n",
    "    \n",
    "    zbfile = zbfile[0]\n",
    "    cafile = cafile[0]\n",
    "    \n",
    "    # Access data from files\n",
    "    if os.path.exists(zbfile):\n",
    "            try:\n",
    "                zbest = Table.read(zbfile, 'REDSHIFTS')\n",
    "            except KeyError:\n",
    "            # If 'REDSHIFTS' does not exist, try 'ZBEST' extension\n",
    "                try:\n",
    "                    zbest = Table.read(zbfile, 'ZBEST')\n",
    "                    #print(\"Read data from 'ZBEST' extension.\")\n",
    "                except KeyError:\n",
    "                    print(\"Neither 'REDSHIFTS' nor 'ZBEST' extensions exist in the FITS file.\")\n",
    "    if not os.path.exists(cafile):\n",
    "        print('path does not exist for: ', cafile)\n",
    "        return None\n",
    "    pspectra = read_spectra(cafile)\n",
    "    '''\n",
    "    if int(obsdate)>20210503:\n",
    "            select_nite = pspectra.fibermap['NIGHT'] == obsdate\n",
    "            pspectra = pspectra[select_nite]\n",
    "    '''\n",
    "    cspectra = coadd_cameras(pspectra)\n",
    "    cspectra.scores = None\n",
    "    fibermap = cspectra.fibermap\n",
    "    \n",
    "    select = np.where(np.array(cspectra.fibermap['TARGETID']) == target_id)\n",
    "   \n",
    "    # Accumulate spectrum data.\n",
    "    print(select)\n",
    "    if (np.sum(select) > 0):\n",
    "        print('made it to if statement')\n",
    "        if allzbest == None:\n",
    "            allzbest = zbest[select]\n",
    "            allfmap = fibermap[select]\n",
    "            allwave = cspectra.wave['brz']\n",
    "            allflux = cspectra.flux['brz'][select]\n",
    "            allivar = cspectra.ivar['brz'][select]\n",
    "            allmask = cspectra.mask['brz'][select]\n",
    "            allres  = cspectra.resolution_data['brz'][select]\n",
    "            print('allzbest is none')\n",
    "        else:\n",
    "            allzbest = vstack([allzbest, zbest[select]])\n",
    "            allfmap = vstack([allfmap, fibermap[select]])\n",
    "            allflux = np.vstack([allflux, cspectra.flux['brz'][select]])\n",
    "            allivar = np.vstack([allivar, cspectra.ivar['brz'][select]])\n",
    "            allmask = np.vstack([allmask, cspectra.mask['brz'][select]])\n",
    "            allres  = np.vstack([allres, cspectra.resolution_data['brz'][select]])\n",
    "    #print(allzbest)"
   ]
  },
  {
   "cell_type": "code",
   "execution_count": 120,
   "id": "53031ffc-0eba-4f65-8716-c45adb8ae12b",
   "metadata": {
    "tags": []
   },
   "outputs": [],
   "source": [
    "trans_file = '/global/homes/e/emmayu/transients_cmuS24/ToO_classification/too_transients.pkl'\n",
    "transients_df = pd.read_pickle(trans_file).dropna().drop_duplicates(subset=['desi_targetid', 'desi_obs_date']).rename(columns={'desi_tiled':'desi_tileid'})\n",
    "transients = Table.from_pandas(transients_df)\n"
   ]
  },
  {
   "cell_type": "code",
   "execution_count": null,
   "id": "c78b2c58-46fa-4f51-b345-40ee50f2b1c3",
   "metadata": {
    "tags": []
   },
   "outputs": [],
   "source": [
    "\n",
    "from tqdm.notebook import tqdm\n",
    "# We need to first vstack all the values \n",
    "\n",
    "allzbest = None\n",
    "allfmap = None\n",
    "allwave = None\n",
    "allflux = None\n",
    "allivar = None\n",
    "allmask = None\n",
    "allres  = None\n",
    "\n",
    "fibererr = []\n",
    "import warnings\n",
    "for row in tqdm(range(len(transients))):\n",
    "    prepare_input(row)"
   ]
  },
  {
   "cell_type": "code",
   "execution_count": 83,
   "id": "669bce46-4c55-456c-b7ec-ba76619ac8dd",
   "metadata": {
    "tags": []
   },
   "outputs": [],
   "source": [
    "\n",
    "# Writing the first two variables as fits files\n",
    "allzbest.write('allzbest.fits', format='fits', overwrite=True)\n",
    "allfmap.write('allfmap.fits', format='fits', overwrite=True)\n",
    "\n",
    "# Save the arrays to a .npz file\n",
    "np.savez('cnn_arrays.npz', allwave=allwave,\n",
    "         allflux=allflux, allivar=allivar, allmask=allmask, allres=allres)\n"
   ]
  },
  {
   "cell_type": "code",
   "execution_count": 85,
   "id": "8411404d-4bc6-4035-9fc4-bdc17e5edac3",
   "metadata": {
    "tags": []
   },
   "outputs": [],
   "source": [
    "from astropy.table import Table\n",
    "# Load the fits files\n",
    "allzbest_loaded = Table.read('allzbest.fits', format='fits')\n",
    "allfmap_loaded = Table.read('allfmap.fits', format='fits')\n",
    "\n",
    "# Load the arrays back from the .npz file\n",
    "arrays = np.load('cnn_arrays.npz')\n",
    "\n",
    "# Extract each array from the loaded file\n",
    "allwave_loaded = arrays['allwave']\n",
    "allflux_loaded = arrays['allflux']\n",
    "allivar_loaded = arrays['allivar']\n",
    "allmask_loaded = arrays['allmask']\n",
    "allres_loaded = arrays['allres']"
   ]
  },
  {
   "cell_type": "code",
   "execution_count": 86,
   "id": "1ceeae31-e905-4cdd-bfc3-b1a29f8aec79",
   "metadata": {
    "tags": []
   },
   "outputs": [],
   "source": [
    "from astropy.table import Table, MaskedColumn\n",
    "# Iterate through the rows\n",
    "subtype_col = allzbest_loaded['SUBTYPE']\n",
    "for i in range(len(subtype_col)):\n",
    "    # Check if the value is a masked constant\n",
    "    if isinstance(subtype_col[i], ma.core.MaskedConstant):\n",
    "        # Replace the masked constant with an empty string\n",
    "        subtype_col[i] = ''\n"
   ]
  },
  {
   "cell_type": "code",
   "execution_count": 87,
   "id": "8ec88d55-3c7e-41e6-8e99-6b0e6795e94b",
   "metadata": {
    "tags": []
   },
   "outputs": [],
   "source": [
    "\n",
    "allfmap = allfmap_loaded\n",
    "allzbest = allzbest_loaded\n",
    "allwave = allwave_loaded\n",
    "allflux = allflux_loaded\n",
    "allivar = allivar_loaded\n",
    "allmask = allmask_loaded\n",
    "allres = allres_loaded\n",
    "\n",
    "if allzbest is None:\n",
    "    print(\"No transient observations found\")            \n",
    "else  :\n",
    "    # Apply the DESITRIP preprocessing to selected spectra.\n",
    "    rewave, reflux, reivar = rebin_flux(allwave, allflux, allivar, allzbest['Z'],\n",
    "                                        minwave=2500., maxwave=9500., nbins=150,\n",
    "                                        log=True, clip=True)\n",
    "    rsflux = rescale_flux(reflux)"
   ]
  },
  {
   "cell_type": "code",
   "execution_count": 88,
   "id": "3115e4dc-6de2-444e-9195-5dda2f005001",
   "metadata": {
    "tags": []
   },
   "outputs": [
    {
     "name": "stdout",
     "output_type": "stream",
     "text": [
      "5/5 [==============================] - 0s 3ms/step\n",
      "149  transients found\n"
     ]
    }
   ],
   "source": [
    "\n",
    "pred = classifier.predict(rsflux)\n",
    "ymax = np.max(pred, axis=1)\n",
    "\n",
    "idx = np.argwhere((ymax > -1000)).flatten()\n",
    "labels = np.argmax(pred, axis=1)\n",
    "ntr = len(idx)\n",
    "print(ntr,' transients found')\n"
   ]
  },
  {
   "cell_type": "code",
   "execution_count": 89,
   "id": "a9992538-5464-4677-ad8d-6c512dd15c7c",
   "metadata": {
    "tags": []
   },
   "outputs": [],
   "source": [
    "pred_selected = pred[idx]"
   ]
  },
  {
   "cell_type": "code",
   "execution_count": 90,
   "id": "bd383629-203b-4cbb-af82-d1cdc852028c",
   "metadata": {
    "tags": []
   },
   "outputs": [],
   "source": [
    " # Save data to file - we need to add ra dec, and some id\n",
    "if ntr > 0:\n",
    "\n",
    "    # Save classification info to a table.\n",
    "    classification = Table()\n",
    "    classification['TARGETID'] = allfmap[idx]['TARGETID']\n",
    "    classification['CNNLABEL'] = label_names_arr[labels[idx]]\n",
    "    classification['YMAX'] = ymax[idx]\n",
    "    #classification['CNNPRED'] = pred[idx]\n",
    "    classification['Galaxy_CNNPRED'] = pred_selected[:, 0]\n",
    "    classification['SNIa_CNNPRED'] = pred_selected[:, 1]\n",
    "    classification['SNIb_CNNPRED'] = pred_selected[:, 2]\n",
    "    classification['SNIbc_CNNPRED'] = pred_selected[:, 3]\n",
    "    classification['SNIc_CNNPRED'] = pred_selected[:, 4]\n",
    "    classification['SNIIn_CNNPRED'] = pred_selected[:, 5]\n",
    "    classification['SNIILP_CNNPRED'] = pred_selected[:, 6]\n",
    "    classification['SNIIP_CNNPRED'] = pred_selected[:, 7]\n",
    "    classification['KN_CNNPRED'] = pred_selected[:, 8]\n",
    "    classification['Index'] = idx"
   ]
  },
  {
   "cell_type": "code",
   "execution_count": 95,
   "id": "8adb8a7a-afe2-46e7-a414-34a0ee9596e3",
   "metadata": {
    "tags": []
   },
   "outputs": [],
   "source": [
    "all_classifications = join(classification, transients, keys_left='TARGETID', keys_right = 'desi_targetid')\n",
    "mask = (allzbest['SUBTYPE']=='') & (allzbest['SPECTYPE']=='QSO')\n",
    "allzbest[mask]\n",
    "full_classifications_df = all_classifications.to_pandas().drop_duplicates(subset=['desi_targetid', 'desi_obs_date'])\n",
    "full_classifications = Table.from_pandas(full_classifications_df)"
   ]
  },
  {
   "cell_type": "code",
   "execution_count": 119,
   "id": "61ae4ac4-d06a-41d1-aef4-a4e751dc9746",
   "metadata": {},
   "outputs": [],
   "source": [
    "# Extract the 'Z' column\n",
    "z_column = allzbest['Z']\n",
    "zwarn_column = allzbest['ZWARN']\n",
    "full_classifications_df['desi_z'] = z_column\n",
    "full_classifications_df['desi_zwarn'] = zwarn_column\n",
    "\n",
    "full_classifications_df.to_csv('/global/homes/e/emmayu/transients_cmuS24/ToO_classification/too_transient_class.csv')\n",
    "#full_classifications_df.sort_values(by='YMAX', ascending=False).columns"
   ]
  },
  {
   "cell_type": "code",
   "execution_count": 99,
   "id": "fb686e05-1a7d-44d3-a631-291c5e3e1829",
   "metadata": {
    "tags": []
   },
   "outputs": [
    {
     "data": {
      "image/png": "[encoded data removed]",
      "text/plain": [
       "<Figure size 640x480 with 1 Axes>"
      ]
     },
     "metadata": {},
     "output_type": "display_data"
    }
   ],
   "source": [
    "plt.hist(full_classifications_df['YMAX'], bins=20)\n",
    "plt.title('Confidence Score Distribution')\n",
    "plt.xlabel('Confidence Score')\n",
    "plt.ylabel('Frequency')\n",
    "plt.xlim(0, 1)\n",
    "plt.show()"
   ]
  },
  {
   "cell_type": "code",
   "execution_count": 100,
   "id": "db2a8c69-0903-45cc-a8fb-d04a00fadc51",
   "metadata": {
    "tags": []
   },
   "outputs": [
    {
     "name": "stdout",
     "output_type": "stream",
     "text": [
      "INFO:spectra.py:184:write_spectra: iotime 0.330 sec to write transient_candidate_spectra_lsdr_matches_6_21_2024.fits at 2024-07-18T13:44:29.925061\n"
     ]
    },
    {
     "name": "stderr",
     "output_type": "stream",
     "text": [
      "INFO:desiutil.log.dlm58.info:iotime 0.330 sec to write transient_candidate_spectra_lsdr_matches_6_21_2024.fits at 2024-07-18T13:44:29.925061\n"
     ]
    },
    {
     "name": "stdout",
     "output_type": "stream",
     "text": [
      "Output file saved in /global/homes/e/emmayu/transients_cmuS24/timedomain/cronjobs/transient_candidate_spectra_lsdr_matches_6_21_2024.fits\n"
     ]
    }
   ],
   "source": [
    "fmap = hstack([allfmap[idx], allzbest[idx], classification])\n",
    "#fmap['TARGETID_1'].name='TARGETID'\n",
    "#fmap.remove_columns(['TARGETID_2','TARGETID_3']) \n",
    "\n",
    "# Pack data into Spectra and write to FITS.\n",
    "cand_spectra = Spectra(bands=['brz'],\n",
    "                       wave={'brz' : allwave},\n",
    "                       flux={'brz' : allflux[idx]},\n",
    "                       ivar={'brz' : allivar[idx]},\n",
    "                       mask={'brz' : allmask[idx]},\n",
    "                       resolution_data={'brz' : allres[idx]},\n",
    "                       fibermap=fmap\n",
    "                   )\n",
    "out_path = '/global/homes/e/emmayu/transients_cmuS24/timedomain/cronjobs'\n",
    "outfits = '{}/transient_candidate_spectra_{}_{}.fits'.format(out_path, 'lsdr_matches', '6_21_2024')\n",
    "write_spectra(outfits, cand_spectra)\n",
    "print('Output file saved in {}'.format(outfits))\n",
    "\n",
    "R = Resolution(cand_spectra.resolution_data['brz'][0])"
   ]
  },
  {
   "cell_type": "code",
   "execution_count": 115,
   "id": "2885d444-ac85-43d9-9072-c4a3ff0505db",
   "metadata": {
    "tags": []
   },
   "outputs": [
    {
     "data": {
      "image/png": "[encoded data removed]",
      "text/plain": [
       "<Figure size 1200x500 with 1 Axes>"
      ]
     },
     "metadata": {},
     "output_type": "display_data"
    },
    {
     "data": {
      "image/png": "[encoded data removed]",
      "text/plain": [
       "<Figure size 1200x500 with 1 Axes>"
      ]
     },
     "metadata": {},
     "output_type": "display_data"
    }
   ],
   "source": [
    "from IPython.display import clear_output\n",
    "\n",
    "counter = 0\n",
    "\n",
    "for row in full_classifications:\n",
    "    plt.figure(figsize=(12,5))\n",
    "    plt.ylim(-0.5,1)\n",
    "    \n",
    "    j = row['Index']\n",
    "    obsdate = row['desi_obs_date']\n",
    "    objid = row['TOOID']\n",
    "    ymax = row['YMAX']\n",
    "    cnnlabel = row['CNNLABEL']\n",
    "    #these lines are to add to the output plot the wavelengths between the arms\n",
    "    br_band=[5600,6000]\n",
    "    rz_band=[7400,7800]\n",
    "\n",
    "    #delta_fibermag_g=allfmap['DELTAMAG_G'][j]\n",
    "    #delta_fibermag_r=allfmap['DELTAMAG_R'][j]\n",
    "    #delta_fibermag_z=allfmap['DELTAMAG_Z'][j]\n",
    "\n",
    "    #if ((type(delta_fibermag_g) == ma.core.MaskedConstant) | (type(delta_fibermag_r) == ma.core.MaskedConstant) | (type(delta_fibermag_z) == ma.core.MaskedConstant)):\n",
    "        #continue\n",
    "\n",
    "    if gradcam:\n",
    "        this_flux=rsflux[j,:].reshape((1,150)) \n",
    "\n",
    "        # Generate class activation heatmap\n",
    "        heatmap = make_gradcam_heatmap(\n",
    "            this_flux, classifier, last_conv_layer_name, classifier_layer_names\n",
    "        )\n",
    "\n",
    "        color='blue'\n",
    "\n",
    "        #If a candidate has a deltamag>2 sigma away from the mean deltamag distribution\n",
    "        #it's flagged as a deltamag candidate and we plot it in red\n",
    "        rewave_nbin_inblock=rewave.shape[0]/float(heatmap.shape[0])\n",
    "        first_bin=0\n",
    "        for i in range(1,heatmap.shape[0]+1):\n",
    "            alpha=np.min([1,heatmap[i-1]+0.2])\n",
    "            last_bin=int(i*rewave_nbin_inblock)\n",
    "            if (i==1):\n",
    "                plt.plot(rewave[first_bin:last_bin+1], this_flux[0,first_bin:last_bin+1],c=color,alpha=alpha,\\\n",
    "                        label=str(allfmap['TARGETID'][j])+'\\n'+label_names[labels[j]]+'\\nz={:.2f}'.format(allzbest[j]['Z']))\n",
    "            else:\n",
    "                plt.plot(rewave[first_bin:last_bin+1], this_flux[0,first_bin:last_bin+1],c=color,alpha=alpha, linewidth=3,)\n",
    "            first_bin=last_bin\n",
    "\n",
    "    else:\n",
    "        plt.plot(rewave, rsflux[j], alpha=0.7, linewidth=3, label='label: '+label_names[labels[j]]+'\\nz={:.2f}'.format(allzbest[j]['Z']))\n",
    "\n",
    "\n",
    "    this_br_band=br_band/(1.+(allzbest[j]['Z']))\n",
    "    this_rz_band=rz_band/(1.+(allzbest[j]['Z']))  \n",
    "    plt.fill_between(this_br_band,[0,0],[1,1],alpha=0.1,color='k')\n",
    "    plt.fill_between(this_rz_band,[0,0],[1,1],alpha=0.1,color='k')                      \n",
    "    \n",
    "\n",
    "    spectype = allzbest['SPECTYPE'][j].strip()\n",
    "    subtype = allzbest['SUBTYPE'][j].strip()\n",
    "    fulltype = (spectype, subtype)\n",
    "    try:\n",
    "        ncoeff = templates[fulltype].flux.shape[0]\n",
    "    except KeyError:\n",
    "            print(\"Key Error for \", fulltype)\n",
    "            continue\n",
    "    coeff = allzbest['COEFF'][j][0:ncoeff]\n",
    "    tflux = templates[fulltype].flux.T.dot(coeff)\n",
    "    twave = templates[fulltype].wave * (1+allzbest[j]['Z'])\n",
    "    txflux = R.dot(resample_flux(cand_spectra.wave['brz'], twave, tflux))\n",
    "    res=allflux[j]-txflux\n",
    "    res_smooth = gaussian_filter1d(res, 25)\n",
    "    plt.plot(allwave/(1.+(allzbest[j]['Z'])), res_smooth, 'k-', alpha=0.3, linewidth=3,label='Residual')\n",
    "    plt.title(f'{objid}, DESI Obsdate {obsdate}, {cnnlabel}, YMAX: {ymax:.3f}')\n",
    "    plt.legend()\n",
    "\n",
    "    plt.tight_layout()\n",
    "    savepath = '/global/homes/e/emmayu/transients_cmuS24/ToO_classification/too_gradcam'\n",
    "    outplot = '{}/transient_candidates_{}_{}.png'.format(savepath, allfmap['TARGETID'][j], obsdate)\n",
    "    plt.savefig(outplot, dpi=150)\n",
    "    plt.close()\n",
    "    \n",
    "    counter += 1\n",
    "    print(f'Transients Plotted: {counter}/{len(full_classifications)}')\n",
    "    clear_output(wait=True)\n",
    "    #print('Figure saved in {}', outplot)\n",
    "    #plt.clf()"
   ]
  },
  {
   "cell_type": "code",
   "execution_count": 117,
   "id": "98e22aef-2cd9-4ad9-902f-e2ff8e16c6cc",
   "metadata": {},
   "outputs": [
    {
     "data": {
      "text/html": [
       "<div><i>Table length=149</i>\n",
       "<table id=\"table139702338037568\" class=\"table-striped table-bordered table-condensed\">\n",
       "<thead><tr><th>TARGETID</th><th>Z</th><th>ZERR</th><th>ZWARN</th><th>CHI2</th><th>COEFF</th><th>NPIXELS</th><th>SPECTYPE</th><th>SUBTYPE</th><th>NCOEFF</th><th>DELTACHI2</th><th>NUMEXP</th><th>NUMTILE</th></tr></thead>\n",
       "<thead><tr><th>int64</th><th>float64</th><th>float64</th><th>int64</th><th>float64</th><th>float64[10]</th><th>int64</th><th>bytes6</th><th>bytes20</th><th>int64</th><th>float64</th><th>int32</th><th>int32</th></tr></thead>\n",
       "<tr><td>43977350693867521</td><td>0.28824587029905596</td><td>6.60746352301806e-05</td><td>0</td><td>8917.690472211689</td><td>141.28582449414202 .. -29.34154743519525</td><td>7812</td><td>GALAXY</td><td></td><td>10</td><td>95.36824505962431</td><td>--</td><td>--</td></tr>\n",
       "<tr><td>43977356729470978</td><td>0.17281295017325335</td><td>3.8698695171877665e-05</td><td>0</td><td>7938.497233256698</td><td>155.3298489915231 .. 4.892903406988287</td><td>7809</td><td>GALAXY</td><td></td><td>10</td><td>113.3472399264574</td><td>--</td><td>--</td></tr>\n",
       "<tr><td>43977350698061833</td><td>0.0968074008446915</td><td>1.3482985309746452e-05</td><td>0</td><td>15243.908014945686</td><td>1315.1920692718702 .. 202.55114319986015</td><td>7778</td><td>GALAXY</td><td></td><td>10</td><td>6509.560378707945</td><td>--</td><td>--</td></tr>\n",
       "<tr><td>43977362765074455</td><td>0.09853505762649364</td><td>3.3576350788258616e-06</td><td>0</td><td>8350.944523096085</td><td>1036.5993219085672 .. -28.047727966807702</td><td>7755</td><td>GALAXY</td><td></td><td>10</td><td>6476.231790304184</td><td>--</td><td>--</td></tr>\n",
       "<tr><td>43977332633194522</td><td>0.2616688789624767</td><td>8.402755972406057e-06</td><td>0</td><td>8855.281312346458</td><td>467.55506383076795 .. 18.9998210290192</td><td>7840</td><td>GALAXY</td><td></td><td>10</td><td>2454.620761781931</td><td>--</td><td>--</td></tr>\n",
       "<tr><td>43977344679235612</td><td>0.06864487051728735</td><td>8.093698924683857e-06</td><td>0</td><td>8379.176302939653</td><td>696.1559088007537 .. -12.941566146888052</td><td>7776</td><td>GALAXY</td><td></td><td>10</td><td>2053.5689573736163</td><td>--</td><td>--</td></tr>\n",
       "<tr><td>43977356737859617</td><td>0.19986482405418582</td><td>2.8422007314936193e-05</td><td>0</td><td>8760.246003188193</td><td>1407.969212607949 .. 2.927919876436172</td><td>7769</td><td>GALAXY</td><td></td><td>10</td><td>3491.994944445789</td><td>--</td><td>--</td></tr>\n",
       "<tr><td>43977338660409380</td><td>0.06913632639453436</td><td>4.6096097075768816e-06</td><td>0</td><td>8418.581259995699</td><td>267.36963618366264 .. -55.07351842479846</td><td>7836</td><td>GALAXY</td><td></td><td>10</td><td>2405.28785392642</td><td>--</td><td>--</td></tr>\n",
       "<tr><td>39627676683600822</td><td>0.06768396555068229</td><td>5.15072460142053e-06</td><td>0</td><td>9499.267139971256</td><td>3902.592030528955 .. 107.27981783943338</td><td>7899</td><td>GALAXY</td><td></td><td>10</td><td>5777.9420966506</td><td>--</td><td>--</td></tr>\n",
       "<tr><td>43977344683429930</td><td>1.3513237195892964</td><td>4.125496902004999e-05</td><td>0</td><td>8116.296969652176</td><td>-237.1849568238724 .. -23.66904652420506</td><td>7831</td><td>GALAXY</td><td></td><td>10</td><td>21.263998568058014</td><td>--</td><td>--</td></tr>\n",
       "<tr><td>...</td><td>...</td><td>...</td><td>...</td><td>...</td><td>...</td><td>...</td><td>...</td><td>...</td><td>...</td><td>...</td><td>...</td><td>...</td></tr>\n",
       "<tr><td>39633030196758290</td><td>-0.0004994016547078124</td><td>1.653971194275279e-05</td><td>0</td><td>10845.69514253132</td><td>2971.226339943833 .. 0.0</td><td>7923</td><td>STAR</td><td>F</td><td>5</td><td>1361.550407003735</td><td>0</td><td>1</td></tr>\n",
       "<tr><td>616093787306853037</td><td>0.510791574758258</td><td>0.00010975065319226034</td><td>4</td><td>9287.346112512052</td><td>64.07044155664185 .. -19.079621077341486</td><td>7920</td><td>GALAXY</td><td></td><td>10</td><td>0.7694472279399633</td><td>0</td><td>1</td></tr>\n",
       "<tr><td>616093782508569054</td><td>0.9259719397872986</td><td>6.347398630235434e-05</td><td>4</td><td>9480.088575392962</td><td>-75.49878343314802 .. -4.374804954107782</td><td>7923</td><td>GALAXY</td><td></td><td>10</td><td>5.808857172727585</td><td>0</td><td>1</td></tr>\n",
       "<tr><td>43978266142313656</td><td>0.20482792010010237</td><td>1.1536550695919509e-05</td><td>0</td><td>11425.51134622097</td><td>2089.951626453592 .. -26.293123239945356</td><td>7925</td><td>GALAXY</td><td></td><td>10</td><td>4379.109099000692</td><td>0</td><td>1</td></tr>\n",
       "<tr><td>43978309712747613</td><td>0.22070676984480073</td><td>3.346849427523177e-05</td><td>0</td><td>13188.890931777656</td><td>2423.362103027567 .. 96.8374047320407</td><td>7747</td><td>GALAXY</td><td></td><td>10</td><td>1547.0333304237574</td><td>0</td><td>1</td></tr>\n",
       "<tr><td>39633039751382536</td><td>0.27236668316980395</td><td>1.2169832371467604e-05</td><td>0</td><td>9970.763867795467</td><td>-373.72428034627154 .. -22.20033808951984</td><td>7892</td><td>GALAXY</td><td></td><td>10</td><td>1940.569873869419</td><td>0</td><td>1</td></tr>\n",
       "<tr><td>39633034995042100</td><td>2.2140711937729186e-05</td><td>5.361858787190119e-05</td><td>0</td><td>11326.278665631111</td><td>4820.191906776531 .. 0.0</td><td>7922</td><td>STAR</td><td>WD</td><td>5</td><td>10793.579020411675</td><td>0</td><td>1</td></tr>\n",
       "<tr><td>39632991235867951</td><td>1.1535716803545109</td><td>0.00029847097897781923</td><td>0</td><td>8477.685967190191</td><td>0.0014481609310953607 .. 0.0</td><td>7923</td><td>QSO</td><td></td><td>4</td><td>13.944637393578887</td><td>0</td><td>1</td></tr>\n",
       "<tr><td>43978271020289432</td><td>0.32287622741356403</td><td>6.874887360405566e-05</td><td>0</td><td>11226.066406298429</td><td>709.5237628016295 .. -4.4738285505194</td><td>7872</td><td>GALAXY</td><td></td><td>10</td><td>436.7293164655566</td><td>0</td><td>1</td></tr>\n",
       "<tr><td>39632996185146315</td><td>0.7371848028340893</td><td>4.656916024464124e-05</td><td>0</td><td>11603.297881424427</td><td>0.0033723977025189394 .. 0.0</td><td>7879</td><td>QSO</td><td></td><td>4</td><td>3076.5035729259253</td><td>0</td><td>1</td></tr>\n",
       "</table></div>"
      ],
      "text/plain": [
       "<Table length=149>\n",
       "     TARGETID                Z            ... NUMEXP NUMTILE\n",
       "      int64               float64         ... int32   int32 \n",
       "------------------ ---------------------- ... ------ -------\n",
       " 43977350693867521    0.28824587029905596 ...     --      --\n",
       " 43977356729470978    0.17281295017325335 ...     --      --\n",
       " 43977350698061833     0.0968074008446915 ...     --      --\n",
       " 43977362765074455    0.09853505762649364 ...     --      --\n",
       " 43977332633194522     0.2616688789624767 ...     --      --\n",
       " 43977344679235612    0.06864487051728735 ...     --      --\n",
       " 43977356737859617    0.19986482405418582 ...     --      --\n",
       " 43977338660409380    0.06913632639453436 ...     --      --\n",
       " 39627676683600822    0.06768396555068229 ...     --      --\n",
       " 43977344683429930     1.3513237195892964 ...     --      --\n",
       "               ...                    ... ...    ...     ...\n",
       " 39633030196758290 -0.0004994016547078124 ...      0       1\n",
       "616093787306853037      0.510791574758258 ...      0       1\n",
       "616093782508569054     0.9259719397872986 ...      0       1\n",
       " 43978266142313656    0.20482792010010237 ...      0       1\n",
       " 43978309712747613    0.22070676984480073 ...      0       1\n",
       " 39633039751382536    0.27236668316980395 ...      0       1\n",
       " 39633034995042100 2.2140711937729186e-05 ...      0       1\n",
       " 39632991235867951     1.1535716803545109 ...      0       1\n",
       " 43978271020289432    0.32287622741356403 ...      0       1\n",
       " 39632996185146315     0.7371848028340893 ...      0       1"
      ]
     },
     "execution_count": 117,
     "metadata": {},
     "output_type": "execute_result"
    }
   ],
   "source": [
    "allzbest"
   ]
  },
  {
   "cell_type": "code",
   "execution_count": null,
   "id": "52db03f3-d055-4035-a1d5-e5b90e0c9c08",
   "metadata": {},
   "outputs": [],
   "source": []
  }
 ],
 "metadata": {
  "kernelspec": {
   "display_name": "DESI 23.1",
   "language": "python",
   "name": "desi-23.1"
  },
  "language_info": {
   "codemirror_mode": {
    "name": "ipython",
    "version": 3
   },
   "file_extension": ".py",
   "mimetype": "text/x-python",
   "name": "python",
   "nbconvert_exporter": "python",
   "pygments_lexer": "ipython3",
   "version": "3.10.8"
  }
 },
 "nbformat": 4,
 "nbformat_minor": 5
}
