{
 "cells": [
  {
   "cell_type": "markdown",
   "id": "d6ee716d-9391-4ca8-a394-03e3ba1d482b",
   "metadata": {},
   "source": [
    "# ToO Candidate Processing for DESITrIP"
   ]
  },
  {
   "cell_type": "code",
   "execution_count": 143,
   "id": "79883280-b9b7-4bba-8bfe-58e9f883ecf5",
   "metadata": {
    "tags": []
   },
   "outputs": [],
   "source": [
    "import pandas as pd\n",
    "from glob import glob\n",
    "from astropy.time import Time\n",
    "\n",
    "from astropy.table import Table, Column\n",
    "from desispec.io import read_spectra, write_spectra\n",
    "from desispec.coaddition import coadd_cameras\n",
    "from tqdm.notebook import tqdm\n",
    "import os\n",
    "import numpy as np"
   ]
  },
  {
   "cell_type": "code",
   "execution_count": 144,
   "id": "186c6e12-0995-4c75-b71e-3207a4e37c58",
   "metadata": {
    "tags": []
   },
   "outputs": [
    {
     "data": {
      "text/plain": [
       "Index(['RA', 'DEC', 'PMRA', 'PMDEC', 'REF_EPOCH', 'CHECKER', 'TOO_TYPE',\n",
       "       'TOO_PRIO', 'OCLAYER', 'MJD_BEGIN', 'MJD_END', 'TOOID', 'desi_ra',\n",
       "       'desi_dec', 'desi_spectype', 'desi_targetid', 'desi_obs_date',\n",
       "       'desi_deltachi2', 'desi_tiled', 'desi_petalid'],\n",
       "      dtype='object')"
      ]
     },
     "execution_count": 144,
     "metadata": {},
     "output_type": "execute_result"
    }
   ],
   "source": [
    "# Assemble initial table\n",
    "too_files = glob(f\"/global/homes/e/emmayu/desi_too_matched*.csv\")\n",
    "too_tab = []\n",
    "for file in too_files:\n",
    "    # Read each file into a dataframe\n",
    "    df = pd.read_csv(file)\n",
    "    too_tab.append(df)\n",
    "too_tab = pd.concat(too_tab, ignore_index=True).dropna()\n",
    "too_tab.columns"
   ]
  },
  {
   "cell_type": "code",
   "execution_count": 145,
   "id": "cfdb1300-e4de-44ea-965c-03ddb2ef8118",
   "metadata": {
    "tags": []
   },
   "outputs": [],
   "source": [
    "# Select time matches\n",
    "def to_mjd_start(date):\n",
    "    date = str(int(date))\n",
    "    time_obj = Time.strptime(date, '%Y%m%d')\n",
    "    return time_obj.mjd + 0.5\n",
    "\n",
    "def to_mjd_end(date):\n",
    "    date = str(int(date))\n",
    "    time_obj = Time.strptime(date, '%Y%m%d')\n",
    "    return time_obj.mjd + 1.5\n",
    "    \n",
    "too_tab['desi_mjd_start'] = too_tab['desi_obs_date'].apply(to_mjd_start)\n",
    "too_tab['desi_mjd_end'] = too_tab['desi_obs_date'].apply(to_mjd_end)\n",
    "filtered_too = too_tab.loc[\n",
    "    (too_tab['desi_mjd_start'] >= too_tab['MJD_BEGIN']) &\n",
    "    (too_tab['desi_mjd_end'] <= too_tab['MJD_END'])\n",
    "]"
   ]
  },
  {
   "cell_type": "code",
   "execution_count": 148,
   "id": "b327a9a1-6232-420e-969e-8b3b603f080c",
   "metadata": {},
   "outputs": [],
   "source": [
    "\n",
    "filtered_too = filtered_too.dropna().drop_duplicates(subset=['desi_targetid', 'desi_obs_date']).rename(columns={'desi_tiled':'desi_tileid'})\n",
    "# Columns to convert\n",
    "columns_to_convert = ['desi_targetid', 'desi_obs_date', 'desi_petalid', 'desi_tileid']\n",
    "\n",
    "# Convert columns to int\n",
    "filtered_too[columns_to_convert] = filtered_too[columns_to_convert].astype(int)\n",
    "\n",
    "# Save final selection as a pkl file\n",
    "filtered_too.to_pickle('/global/homes/e/emmayu/transients_cmuS24/ToO_classification/too_transients.pkl')\n"
   ]
  },
  {
   "cell_type": "code",
   "execution_count": 150,
   "id": "f3ffa8fb-368a-4cdb-9029-ea618fd3542e",
   "metadata": {
    "tags": []
   },
   "outputs": [],
   "source": [
    "filtered_too = pd.read_pickle('/global/homes/e/emmayu/transients_cmuS24/ToO_classification/too_transients.pkl')"
   ]
  }
 ],
 "metadata": {
  "kernelspec": {
   "display_name": "DESI 23.1",
   "language": "python",
   "name": "desi-23.1"
  },
  "language_info": {
   "codemirror_mode": {
    "name": "ipython",
    "version": 3
   },
   "file_extension": ".py",
   "mimetype": "text/x-python",
   "name": "python",
   "nbconvert_exporter": "python",
   "pygments_lexer": "ipython3",
   "version": "3.10.8"
  }
 },
 "nbformat": 4,
 "nbformat_minor": 5
}
